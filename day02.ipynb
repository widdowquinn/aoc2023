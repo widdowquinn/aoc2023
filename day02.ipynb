{
 "cells": [
  {
   "cell_type": "markdown",
   "id": "0ba19a52-70b5-4a43-b3d6-d9f9b0bd5e64",
   "metadata": {},
   "source": [
    "# Day 02\n",
    "\n",
    "## Cube Conundrum\n",
    "\n",
    "You're launched high into the atmosphere! The apex of your trajectory just barely reaches the surface of a large island floating in the sky. You gently land in a fluffy pile of leaves. It's quite cold, but you don't see much snow. An Elf runs over to greet you.\n",
    "\n",
    "The Elf explains that you've arrived at **Snow Island** and apologizes for the lack of snow. He'll be happy to explain the situation, but it's a bit of a walk, so you have some time. They don't get many visitors up here; would you like to play a game in the meantime?\n",
    "\n",
    "As you walk, the Elf shows you a small bag and some cubes which are either red, green, or blue. Each time you play this game, he will hide a secret number of cubes of each color in the bag, and your goal is to figure out information about the number of cubes.\n",
    "\n",
    "To get information, once a bag has been loaded with cubes, the Elf will reach into the bag, grab a handful of random cubes, show them to you, and then put them back in the bag. He'll do this a few times per game.\n",
    "\n",
    "You play several games and record the information from each game (your puzzle input). Each game is listed with its ID number (like the 11 in Game 11: ...) followed by a semicolon-separated list of subsets of cubes that were revealed from the bag (like 3 red, 5 green, 4 blue).\n",
    "\n",
    "For example, the record of a few games might look like this:\n",
    "\n",
    "```text\n",
    "Game 1: 3 blue, 4 red; 1 red, 2 green, 6 blue; 2 green\n",
    "Game 2: 1 blue, 2 green; 3 green, 4 blue, 1 red; 1 green, 1 blue\n",
    "Game 3: 8 green, 6 blue, 20 red; 5 blue, 4 red, 13 green; 5 green, 1 red\n",
    "Game 4: 1 green, 3 red, 6 blue; 3 green, 6 red; 3 green, 15 blue, 14 red\n",
    "Game 5: 6 red, 1 blue, 3 green; 2 blue, 1 red, 2 green\n",
    "```\n",
    "\n",
    "In game 1, three sets of cubes are revealed from the bag (and then put back again). The first set is 3 blue cubes and 4 red cubes; the second set is 1 red cube, 2 green cubes, and 6 blue cubes; the third set is only 2 green cubes.\n",
    "\n",
    "The Elf would first like to know which games would have been possible if the bag contained **only 12 red cubes, 13 green cubes, and 14 blue cubes**?\n",
    "\n",
    "In the example above, games 1, 2, and 5 would have been **possible** if the bag had been loaded with that configuration. However, game 3 would have been **impossible** because at one point the Elf showed you 20 red cubes at once; similarly, game 4 would also have been **impossible** because the Elf showed you 15 blue cubes at once. If you add up the IDs of the games that would have been possible, you get **8**.\n",
    "\n",
    "Determine which games would have been possible if the bag had been loaded with only 12 red cubes, 13 green cubes, and 14 blue cubes. **What is the sum of the IDs of those games**?"
   ]
  },
  {
   "cell_type": "code",
   "execution_count": 1,
   "id": "9dee71c7-2b8c-4fc3-8cfd-8e223e47e2b1",
   "metadata": {},
   "outputs": [],
   "source": [
    "## Python Imports\n",
    "\n",
    "from collections import defaultdict\n",
    "from math import prod\n",
    "from pathlib import Path"
   ]
  },
  {
   "cell_type": "markdown",
   "id": "219c118b-ab14-474f-a76f-bb2ec139d1a9",
   "metadata": {},
   "source": [
    "## Part One\n",
    "\n",
    "It seems like this is another straightforward solution: games are impossible if the number of dice drawn for a colour is greater than the number of cubes of that colour which are available. Most of the code handles parsing the flattened game structure into a form that we can calculate on.\n",
    "\n",
    "I load the data into a (`defaultdict`) dictionary where the game number is the key, and the value is a list of individual draw outcomes from the gate. Each draw outcome is a `dict` keyed by colour, with value the number of cubes drawn.\n",
    "\n",
    "To find valid games, I iterate over each game and initially assume it is valid. I test that assumption by iterating over each draw outcome and checking the number of drawn cubes of each colour against the number of available cubes. If the number of drawn cubes is greater than those available, the game is impossible, and I mark it as invalid and move on to the next one. If the game is not found to be invalid, it's added to the valid list, and the list of valid games is returned."
   ]
  },
  {
   "cell_type": "code",
   "execution_count": 2,
   "id": "f542a725-0ab4-4fbe-bcb2-d1711e27e113",
   "metadata": {},
   "outputs": [],
   "source": [
    "def read_data(path):\n",
    "    games = defaultdict(list)  # dict of list of dicts representing game outcomes\n",
    "    with path.open() as ifh:\n",
    "        for game, line in enumerate([_.strip() for _ in ifh.readlines()]):\n",
    "            outcomes = [_.split(\", \") for _ in line.split(\": \")[-1].split(\"; \")]\n",
    "            for outcome in outcomes:\n",
    "                outcomedict = {}  # dict keyed by colour, with number of dice drawn\n",
    "                for cubes in outcome:\n",
    "                    val, colour = cubes.split()\n",
    "                    outcomedict[colour] = int(val)\n",
    "                games[game + 1].append(outcomedict)\n",
    "    return games\n",
    "\n",
    "def find_games(cubes, games):\n",
    "    valid_games = []  # IDs of valid games, given the cubes constraint\n",
    "    for game, outcomes in games.items():\n",
    "        validgame = True  # initial assumption: the game is valid\n",
    "        for outcome in outcomes:\n",
    "            for colour, val in outcome.items():\n",
    "                if cubes[colour] < val:  # cube constraint could not satisfy draw\n",
    "                    validgame = False  # the game is invalid\n",
    "                    break\n",
    "        if validgame == True:  # the game is valid within cube constraints\n",
    "            valid_games.append(game)\n",
    "    return valid_games\n",
    "        "
   ]
  },
  {
   "cell_type": "code",
   "execution_count": 3,
   "id": "f86a6a73-2f56-4c50-8db1-a02d10ad8a1a",
   "metadata": {},
   "outputs": [
    {
     "data": {
      "text/plain": [
       "8"
      ]
     },
     "execution_count": 3,
     "metadata": {},
     "output_type": "execute_result"
    }
   ],
   "source": [
    "cubes = {\"red\": 12, \"green\": 13, \"blue\": 14}  # The number of available cubes for each colour\n",
    "\n",
    "games = read_data(Path(\"data/day02_test.txt\"))\n",
    "sum(find_games(cubes, games))"
   ]
  },
  {
   "cell_type": "code",
   "execution_count": 4,
   "id": "681e3eb8-3fc5-4bf5-b474-2b269f70058c",
   "metadata": {},
   "outputs": [
    {
     "data": {
      "text/plain": [
       "2551"
      ]
     },
     "execution_count": 4,
     "metadata": {},
     "output_type": "execute_result"
    }
   ],
   "source": [
    "games = read_data(Path(\"data/day02_data.txt\"))\n",
    "sum(find_games(cubes, games))"
   ]
  },
  {
   "cell_type": "markdown",
   "id": "f5d73818-40c8-4404-b152-4ffa0106d08a",
   "metadata": {},
   "source": [
    "## Part Two\n",
    "\n",
    "The Elf says they've stopped producing snow because they aren't getting any **water**! He isn't sure why the water stopped; however, he can show you how to get to the water source to check it out for yourself. It's just up ahead!\n",
    "\n",
    "As you continue your walk, the Elf poses a second question: in each game you played, what is the **fewest number of cubes of each color** that could have been in the bag to make the game possible?\n",
    "\n",
    "Again consider the example games from earlier:\n",
    "\n",
    "Game 1: 3 blue, 4 red; 1 red, 2 green, 6 blue; 2 green\n",
    "Game 2: 1 blue, 2 green; 3 green, 4 blue, 1 red; 1 green, 1 blue\n",
    "Game 3: 8 green, 6 blue, 20 red; 5 blue, 4 red, 13 green; 5 green, 1 red\n",
    "Game 4: 1 green, 3 red, 6 blue; 3 green, 6 red; 3 green, 15 blue, 14 red\n",
    "Game 5: 6 red, 1 blue, 3 green; 2 blue, 1 red, 2 green\n",
    "\n",
    "    In game 1, the game could have been played with as few as 4 red, 2 green, and 6 blue cubes. If any color had even one fewer cube, the game would have been impossible.\n",
    "    Game 2 could have been played with a minimum of 1 red, 3 green, and 4 blue cubes.\n",
    "    Game 3 must have been played with at least 20 red, 13 green, and 6 blue cubes.\n",
    "    Game 4 required at least 14 red, 3 green, and 15 blue cubes.\n",
    "    Game 5 needed no fewer than 6 red, 3 green, and 2 blue cubes in the bag.\n",
    "\n",
    "The **power** of a set of cubes is equal to the numbers of red, green, and blue cubes multiplied together. The power of the minimum set of cubes in game 1 is 48. In games 2-5 it was 12, 1560, 630, and 36, respectively. Adding up these five powers produces the sum **2286**.\n",
    "\n",
    "For each game, find the minimum set of cubes that must have been present. **What is the sum of the power of these sets**?\n",
    "\n"
   ]
  },
  {
   "cell_type": "markdown",
   "id": "d35927e2-7943-4944-8807-fa20fb1ba71f",
   "metadata": {},
   "source": [
    "For the second part, we need to find the maximum number of cubes drawn for each colour, in a game. This would have also been a useful part of the solution to Part One (if the number of cubes specified in the constraint for a colour is less than the minimum required for a game, the game is invalid). Once we have this list, calculating the power is straightforward.\n",
    "\n",
    "Below, my solution iterates over each game, storing the maximum number of cubes for each colour in a `dict`. The first outcome of a game is the initial maximum, and the remaining outcomes are considered in turn, updating the maximum for a colour if that draw requires more cubes. The function returns a `dict` keyed by game ID, with value the minimum requirement by colour as a `dict`.\n",
    "\n",
    "I used a function to calculate the powers for this `dict` of minimum requirements and return a `list` of the individual powers."
   ]
  },
  {
   "cell_type": "code",
   "execution_count": 5,
   "id": "6ab038b5-2c6f-4572-bbb2-1cd404ce3f34",
   "metadata": {},
   "outputs": [],
   "source": [
    "def min_cubes(games):\n",
    "    game_mincubes = {}\n",
    "    for game, outcomes in games.items():\n",
    "        mincubes = outcomes[0]\n",
    "        for outcome in outcomes[1:]:\n",
    "            for colour, val in outcome.items():\n",
    "                if colour not in mincubes:\n",
    "                    mincubes[colour] = val\n",
    "                else:\n",
    "                    mincubes[colour] = max(mincubes[colour], val)\n",
    "        game_mincubes[game] = mincubes\n",
    "    return game_mincubes\n",
    "                    \n",
    "def calc_powers(mincubes):\n",
    "    powers = []\n",
    "    for game, cubes in mincubes.items():\n",
    "        powers.append(prod(cubes.values()))\n",
    "    return powers"
   ]
  },
  {
   "cell_type": "code",
   "execution_count": 6,
   "id": "c6a8559c-507c-4223-8a3c-f658095c3386",
   "metadata": {},
   "outputs": [
    {
     "data": {
      "text/plain": [
       "2286"
      ]
     },
     "execution_count": 6,
     "metadata": {},
     "output_type": "execute_result"
    }
   ],
   "source": [
    "games = read_data(Path(\"data/day02_test.txt\"))\n",
    "mincubes = min_cubes(games)\n",
    "sum(calc_powers(mincubes))"
   ]
  },
  {
   "cell_type": "code",
   "execution_count": 7,
   "id": "8543e928-9f09-4177-9f35-06968b86c051",
   "metadata": {},
   "outputs": [
    {
     "data": {
      "text/plain": [
       "62811"
      ]
     },
     "execution_count": 7,
     "metadata": {},
     "output_type": "execute_result"
    }
   ],
   "source": [
    "games = read_data(Path(\"data/day02_data.txt\"))\n",
    "mincubes = min_cubes(games)\n",
    "sum(calc_powers(mincubes))"
   ]
  },
  {
   "cell_type": "code",
   "execution_count": null,
   "id": "826b88f8-b2bf-4866-8312-6f41039645de",
   "metadata": {},
   "outputs": [],
   "source": []
  }
 ],
 "metadata": {
  "kernelspec": {
   "display_name": "Python 3 (ipykernel)",
   "language": "python",
   "name": "python3"
  },
  "language_info": {
   "codemirror_mode": {
    "name": "ipython",
    "version": 3
   },
   "file_extension": ".py",
   "mimetype": "text/x-python",
   "name": "python",
   "nbconvert_exporter": "python",
   "pygments_lexer": "ipython3",
   "version": "3.12.0"
  }
 },
 "nbformat": 4,
 "nbformat_minor": 5
}
