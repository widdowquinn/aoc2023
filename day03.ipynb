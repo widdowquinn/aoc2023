{
 "cells": [
  {
   "cell_type": "markdown",
   "id": "2a832b27-4ebf-499c-840d-69b3ce63e051",
   "metadata": {},
   "source": [
    "# Day 3\n",
    "\n",
    "## Gear Ratios\n",
    "\n",
    "You and the Elf eventually reach a gondola lift station; he says the gondola lift will take you up to the **water source**, but this is as far as he can bring you. You go inside.\n",
    "\n",
    "It doesn't take long to find the gondolas, but there seems to be a problem: they're not moving.\n",
    "\n",
    "\"Aaah!\"\n",
    "\n",
    "You turn around to see a slightly-greasy Elf with a wrench and a look of surprise. \"Sorry, I wasn't expecting anyone! The gondola lift isn't working right now; it'll still be a while before I can fix it.\" You offer to help.\n",
    "\n",
    "The engineer explains that an engine part seems to be missing from the engine, but nobody can figure out which one. If you can **add up all the part numbers** in the engine schematic, it should be easy to work out which part is missing.\n",
    "\n",
    "The engine schematic (your puzzle input) consists of a visual representation of the engine. There are lots of numbers and symbols you don't really understand, but apparently **any number adjacent to a symbol**, even diagonally, is a \"part number\" and should be included in your sum. (Periods (`.`) do not count as a symbol.)\n",
    "\n",
    "Here is an example engine schematic:\n",
    "\n",
    "```text\n",
    "467..114..\n",
    "...*......\n",
    "..35..633.\n",
    "......#...\n",
    "617*......\n",
    ".....+.58.\n",
    "..592.....\n",
    "......755.\n",
    "...$.*....\n",
    ".664.598..\n",
    "```\n",
    "\n",
    "In this schematic, two numbers are not part numbers because they are **not** adjacent to a symbol: `114` (top right) and `58` (middle right). Every other number is adjacent to a symbol and so is a part number; their sum is **4361**.\n",
    "\n",
    "Of course, the actual engine schematic is much larger. **What is the sum of all of the part numbers in the engine schematic**?"
   ]
  },
  {
   "cell_type": "markdown",
   "id": "f0c58a21-e472-4ba4-afc0-8620e2a6e6ea",
   "metadata": {},
   "source": [
    "## Part One\n",
    "\n",
    "Most of my time was spent remembering how to use `numpy` to load string data. That might not have been the best way to do things.\n",
    "\n",
    "My approach was to identify the locations of all the symbols (`get_symbol_locs`) then iterate through all the elements in the `numpy` array of the data. There's a buffer that stores the number currently being built (`curnum`) and digits are added to this as we find them, iterating through the array. We also check to see if the current position is adjacent to a symbol and, if so, a flag (`symadj`) to indicate symbol-adjacency is tripped. The number is stopped and added to a stack/list as an int - along with the symbol-adjacency flag - when we hit a new row or a symbol.\n",
    "\n",
    "After this iteration, numbers in the list are filtered to exclude those adjacent to symbols, and the result returned."
   ]
  },
  {
   "cell_type": "code",
   "execution_count": 1,
   "id": "8a9d4713-647a-43f4-9865-8d0e0b09314a",
   "metadata": {},
   "outputs": [],
   "source": [
    "# Python Imports\n",
    "\n",
    "import re\n",
    "import string\n",
    "\n",
    "from collections import defaultdict\n",
    "from math import prod\n",
    "from pathlib import Path\n",
    "\n",
    "import numpy as np"
   ]
  },
  {
   "cell_type": "markdown",
   "id": "84da6ff6-8512-4e38-a12d-29fea7db0e51",
   "metadata": {},
   "source": [
    "## Part One"
   ]
  },
  {
   "cell_type": "code",
   "execution_count": 2,
   "id": "3c285c60-dcbf-42ad-9332-547ae369aca1",
   "metadata": {},
   "outputs": [],
   "source": [
    "def load_data(path):\n",
    "    with path.open() as ifh:\n",
    "        # Convert all symbols to \"X\" for simplicity of location, later\n",
    "        data = [list(re.sub(\"[^0-9.]\", \"X\", line.strip())) for line in ifh.readlines()]\n",
    "    return np.array(data, dtype=str)\n",
    "\n",
    "def get_symbol_locs(arr):\n",
    "    locarr = np.where(arr == \"X\")\n",
    "    return list(zip(*locarr))  # return array as list of location tuples\n",
    "\n",
    "def cmp_symlocs(pos, symlocs):\n",
    "    \"\"\"Return True if current position adjacent to a symbol\"\"\"\n",
    "    for symloc in symlocs:\n",
    "        if abs(pos[0] - symloc[0]) < 2 and abs(pos[1] - symloc[1]) < 2:\n",
    "            return True\n",
    "    return False\n",
    "\n",
    "def get_numbers(arr, symlocs):\n",
    "    numbers = []\n",
    "    itr = np.nditer(arr, flags=['multi_index'])  # array iterator that also reports element locations\n",
    "    curnum = \"\"  # build the number in this buffer\n",
    "    symadj = False  # flag for whether current number is adjacent to a symbol\n",
    "    lastidx = (0, -1)  # previous element location, to check row change\n",
    "    for val in itr:\n",
    "        if itr.multi_index[0] != lastidx[0] and len(curnum):  # changed rows\n",
    "            numbers.append((int(curnum), symadj))  # update number list\n",
    "            curnum = \"\"  # reset buffer\n",
    "            symadj = False  # reset flag\n",
    "        if str(val) in string.digits:  # is a digit\n",
    "            curnum += str(val)  # append to buffer\n",
    "            if symadj == False and cmp_symlocs(itr.multi_index, symlocs):  # check adjacency\n",
    "                symadj = True  # set flag to true\n",
    "        elif len(curnum):  # not a digit, but buffer populated\n",
    "            numbers.append((int(curnum), symadj))  # update number list\n",
    "            curnum = \"\"  # reset buffer\n",
    "            symadj = False  # reset flag\n",
    "        lastidx = itr.multi_index\n",
    "\n",
    "    numbers = [_[0] for _ in numbers if _[1]]  # filter out False numbers\n",
    "    return numbers"
   ]
  },
  {
   "cell_type": "code",
   "execution_count": 3,
   "id": "3cfaac42-7b66-4e28-9a36-fec7b4b2af77",
   "metadata": {},
   "outputs": [
    {
     "data": {
      "text/plain": [
       "4361"
      ]
     },
     "execution_count": 3,
     "metadata": {},
     "output_type": "execute_result"
    }
   ],
   "source": [
    "arr = load_data(Path(\"data/day03_test.txt\"))\n",
    "symlocs = get_symbol_locs(arr)\n",
    "numbers = get_numbers(arr, symlocs)\n",
    "sum(numbers)"
   ]
  },
  {
   "cell_type": "code",
   "execution_count": 4,
   "id": "987e590a-ebcd-483d-bbcf-b208b1308500",
   "metadata": {},
   "outputs": [
    {
     "data": {
      "text/plain": [
       "533775"
      ]
     },
     "execution_count": 4,
     "metadata": {},
     "output_type": "execute_result"
    }
   ],
   "source": [
    "arr = load_data(Path(\"data/day03_data.txt\"))\n",
    "symlocs = get_symbol_locs(arr)\n",
    "numbers = get_numbers(arr, symlocs)\n",
    "sum(numbers)"
   ]
  },
  {
   "cell_type": "markdown",
   "id": "3a2790e2-a204-4398-94e3-8d0718e5d4da",
   "metadata": {},
   "source": [
    "## Part Two\n",
    "\n",
    "The engineer finds the missing part and installs it in the engine! As the engine springs to life, you jump in the closest gondola, finally ready to ascend to the water source.\n",
    "\n",
    "You don't seem to be going very fast, though. Maybe something is still wrong? Fortunately, the gondola has a phone labeled \"help\", so you pick it up and the engineer answers.\n",
    "\n",
    "Before you can explain the situation, she suggests that you look out the window. There stands the engineer, holding a phone in one hand and waving with the other. You're going so slowly that you haven't even left the station. You exit the gondola.\n",
    "\n",
    "The missing part wasn't the only issue - one of the gears in the engine is wrong. A **gear** is any * symbol that is adjacent to **exactly two part numbers**. Its **gear ratio** is the result of multiplying those two numbers together.\n",
    "\n",
    "This time, you need to find the gear ratio of every gear and add them all up so that the engineer can figure out which gear needs to be replaced.\n",
    "\n",
    "Consider the same engine schematic again:\n",
    "\n",
    "```text\n",
    "467..114..\n",
    "...*......\n",
    "..35..633.\n",
    "......#...\n",
    "617*......\n",
    ".....+.58.\n",
    "..592.....\n",
    "......755.\n",
    "...$.*....\n",
    ".664.598..\n",
    "```\n",
    "\n",
    "In this schematic, there are **two** gears. The first is in the top left; it has part numbers `467` and `35`, so its gear ratio is 16345. The second gear is in the lower right; its gear ratio is 451490. (The * adjacent to `617` is not a gear because it is only adjacent to one part number.) Adding up all of the gear ratios produces **467835**.\n",
    "\n",
    "**What is the sum of all of the gear ratios in your engine schematic**?"
   ]
  },
  {
   "cell_type": "markdown",
   "id": "20f4b555-b02a-4436-a8e1-3bc62e7be9bd",
   "metadata": {},
   "source": [
    "My solution was adapted directly from that in part 1. The process of identifying numbers to keep is the same, except (i) we only trigger the `symadj` flag if a digit is next to the `*` symbol, and (ii) we set the flag to the gear symbol's location.\n",
    "\n",
    "After iterating, we retain numbers adjacent to a `*` symbol, and to find pairs of numbers sharing the same gear, we make a dictionary keyed by gear location, with values a list of the adjacent numbers. We filter this dictionary for the gears with exactly two adjacent numbers, and return the pairs as a list of tuples."
   ]
  },
  {
   "cell_type": "code",
   "execution_count": 5,
   "id": "a119fb06-154c-49bf-a66a-55fb646284c1",
   "metadata": {},
   "outputs": [],
   "source": [
    "def load_gears(path):\n",
    "    with path.open() as ifh:\n",
    "        # No need to convert symbol locations if only looking for gears\n",
    "        data = [list(line.strip()) for line in ifh.readlines()]\n",
    "    return np.array(data, dtype=str)\n",
    "\n",
    "def get_gear_locs(arr):\n",
    "    locarr = np.where(arr == \"*\")  # Only identify gear symbols\n",
    "    return list(zip(*locarr))\n",
    "\n",
    "def cmp_gearlocs(pos, symlocs):\n",
    "    \"\"\"Return gear location if current position adjacent to a gear\"\"\"\n",
    "    for symloc in symlocs:\n",
    "        if abs(pos[0] - symloc[0]) < 2 and abs(pos[1] - symloc[1]) < 2:\n",
    "            return symloc\n",
    "    return False\n",
    "\n",
    "def get_numbers(arr, gearlocs):\n",
    "    numbers = []\n",
    "    itr = np.nditer(arr, flags=['multi_index'])\n",
    "    curnum = \"\"\n",
    "    symadj = False\n",
    "    lastidx = (0, -1)\n",
    "    for val in itr:\n",
    "        if itr.multi_index[0] != lastidx[0] and len(curnum):  # changed rows\n",
    "            numbers.append((int(curnum), symadj))\n",
    "            curnum = \"\"\n",
    "            symadj = False\n",
    "        if str(val) in string.digits:\n",
    "            curnum += str(val)\n",
    "            if symadj is False:  # Check for gear adjacency\n",
    "                gearloc = cmp_gearlocs(itr.multi_index, gearlocs)\n",
    "                if gearloc:  # if adjacent, set flag to gear location\n",
    "                    symadj = gearloc\n",
    "        elif len(curnum):  # not a digit, but buffer populated\n",
    "            numbers.append((int(curnum), symadj))\n",
    "            curnum = \"\"\n",
    "            symadj = False\n",
    "        lastidx = itr.multi_index\n",
    "\n",
    "    numdict = defaultdict(list)  # key by gear location, values are adjacent numbers\n",
    "    [numdict[_[1]].append(_[0]) for _ in numbers if _[1]]  # filter out non-adjacent numbers\n",
    "\n",
    "    # Return only gear numbers where gear is adjacent to two values\n",
    "    return [tuple(nums) for gear, nums in numdict.items() if len(nums) == 2]\n",
    "        "
   ]
  },
  {
   "cell_type": "code",
   "execution_count": 6,
   "id": "32f99ba2-47a2-4ea1-ac4a-90ab863ed97a",
   "metadata": {},
   "outputs": [
    {
     "data": {
      "text/plain": [
       "467835"
      ]
     },
     "execution_count": 6,
     "metadata": {},
     "output_type": "execute_result"
    }
   ],
   "source": [
    "arr = load_gears(Path(\"data/day03_test.txt\"))\n",
    "gearlocs = get_gear_locs(arr)\n",
    "numbers = get_numbers(arr, gearlocs)\n",
    "sum([prod(_) for _ in numbers])"
   ]
  },
  {
   "cell_type": "code",
   "execution_count": 7,
   "id": "17df20b1-8608-4696-a64f-cfaf20fdc90a",
   "metadata": {},
   "outputs": [
    {
     "data": {
      "text/plain": [
       "78236071"
      ]
     },
     "execution_count": 7,
     "metadata": {},
     "output_type": "execute_result"
    }
   ],
   "source": [
    "arr = load_gears(Path(\"data/day03_data.txt\"))\n",
    "gearlocs = get_gear_locs(arr)\n",
    "numbers = get_numbers(arr, gearlocs)\n",
    "sum([prod(_) for _ in numbers])"
   ]
  },
  {
   "cell_type": "code",
   "execution_count": null,
   "id": "0b8199aa-52e8-4653-9d2a-5e0a57934a9d",
   "metadata": {},
   "outputs": [],
   "source": []
  }
 ],
 "metadata": {
  "kernelspec": {
   "display_name": "Python 3 (ipykernel)",
   "language": "python",
   "name": "python3"
  },
  "language_info": {
   "codemirror_mode": {
    "name": "ipython",
    "version": 3
   },
   "file_extension": ".py",
   "mimetype": "text/x-python",
   "name": "python",
   "nbconvert_exporter": "python",
   "pygments_lexer": "ipython3",
   "version": "3.12.0"
  }
 },
 "nbformat": 4,
 "nbformat_minor": 5
}
