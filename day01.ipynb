{
 "cells": [
  {
   "cell_type": "markdown",
   "id": "176a64d9-5c86-4227-8b51-5b5592092830",
   "metadata": {},
   "source": [
    "# Day 1\n",
    "\n",
    "## Trebuchet?!\n",
    "\n",
    "Something is wrong with global snow production, and you've been selected to take a look. The Elves have even given you a map; on it, they've used stars to mark the top fifty locations that are likely to be having problems.\n",
    "\n",
    "You've been doing this long enough to know that to restore snow operations, you need to check all fifty stars by December 25th.\n",
    "\n",
    "Collect stars by solving puzzles. Two puzzles will be made available on each day in the Advent calendar; the second puzzle is unlocked when you complete the first. Each puzzle grants one star. Good luck!\n",
    "\n",
    "You try to ask why they can't just use a weather machine (\"not powerful enough\") and where they're even sending you (\"the sky\") and why your map looks mostly blank (\"you sure ask a lot of questions\") and hang on did you just say the sky (\"of course, where do you think snow comes from\") when you realize that the Elves are already loading you into a trebuchet (\"please hold still, we need to strap you in\").\n",
    "\n",
    "As they're making the final adjustments, they discover that their calibration document (your puzzle input) has been **amended** by a very young Elf who was apparently just excited to show off her art skills. Consequently, the Elves are having trouble reading the values on the document.\n",
    "\n",
    "The newly-improved calibration document consists of lines of text; each line originally contained a specific **calibration value** that the Elves now need to recover. On each line, the calibration value can be found by combining the **first digit** and the **last digit** (in that order) to form a single **two-digit number**.\n",
    "\n",
    "For example:\n",
    "\n",
    "```text\n",
    "1abc2\n",
    "pqr3stu8vwx\n",
    "a1b2c3d4e5f\n",
    "treb7uchet\n",
    "```\n",
    "\n",
    "In this example, the calibration values of these four lines are 12, 38, 15, and 77. Adding these together produces **142**.\n",
    "\n",
    "Consider your entire calibration document. **What is the sum of all of the calibration values?**"
   ]
  },
  {
   "cell_type": "code",
   "execution_count": 1,
   "id": "4e19f960-1706-4c87-bb89-417529429071",
   "metadata": {},
   "outputs": [],
   "source": [
    "## Python Imports\n",
    "\n",
    "import re\n",
    "import string\n",
    "\n",
    "from pathlib import Path"
   ]
  },
  {
   "cell_type": "markdown",
   "id": "f6b7a9af-a3e9-45fd-aa46-8d9b6433dfb2",
   "metadata": {},
   "source": [
    "## Part One\n",
    "\n",
    "It appears as though there's a simple initial solution: find all the instances of digits `0` to `9` and their locations in the line, then concatenate the first and last of these, and turn it into an `int`. Then sum the resulting `int`s from each line.\n",
    "\n",
    "The approach retains only characters in the line that are in `string.digits`, and adds the `int` corresponding to the concatenated first and last digit to a list (`vals`) before returning it.\n",
    "\n",
    "Maybe not the quickest approach, but it's relatively direct (despite the separate functions)."
   ]
  },
  {
   "cell_type": "code",
   "execution_count": 2,
   "id": "4201a3ce-514d-4a27-8463-ce9b415d286f",
   "metadata": {},
   "outputs": [],
   "source": [
    "def load_data(path):\n",
    "    \"\"\"Return generator of (whitespace-stripped) lines from input.\"\"\"\n",
    "    with path.open() as ifh:\n",
    "        return (_.strip() for _ in ifh.readlines())\n",
    "\n",
    "def parse_data(data):\n",
    "    \"\"\"Return list of integers made from of first and last digit in each line.\"\"\"\n",
    "    vals = []\n",
    "    for line in data:\n",
    "        digits = [char for char in line if char in string.digits]\n",
    "        vals.append(int(digits[0] + digits[-1]))\n",
    "    return vals"
   ]
  },
  {
   "cell_type": "code",
   "execution_count": 3,
   "id": "482d3291-f440-40be-a8ad-e7a35f9dd165",
   "metadata": {},
   "outputs": [
    {
     "data": {
      "text/plain": [
       "142"
      ]
     },
     "execution_count": 3,
     "metadata": {},
     "output_type": "execute_result"
    }
   ],
   "source": [
    "data = load_data(Path(\"data/day01_test.txt\"))\n",
    "vals = parse_data(data)\n",
    "sum(vals)"
   ]
  },
  {
   "cell_type": "code",
   "execution_count": 4,
   "id": "602aca73-e7e0-4e08-aa3e-5d9feadb854d",
   "metadata": {},
   "outputs": [
    {
     "data": {
      "text/plain": [
       "54304"
      ]
     },
     "execution_count": 4,
     "metadata": {},
     "output_type": "execute_result"
    }
   ],
   "source": [
    "data = load_data(Path(\"data/day01_data.txt\"))\n",
    "vals = parse_data(data)\n",
    "sum(vals)"
   ]
  },
  {
   "cell_type": "markdown",
   "id": "9c9b81ee-2b71-485f-9df5-4eda5c1f3146",
   "metadata": {},
   "source": [
    "And this seems to work."
   ]
  },
  {
   "cell_type": "markdown",
   "id": "dd2ac680-7462-4426-bfec-82eda896af30",
   "metadata": {},
   "source": [
    "## Part Two\n",
    "\n",
    "Your calculation isn't quite right. It looks like some of the digits are actually spelled out with letters: one, two, three, four, five, six, seven, eight, and nine also count as valid \"digits\".\n",
    "\n",
    "Equipped with this new information, you now need to find the real first and last digit on each line. For example:\n",
    "\n",
    "```text\n",
    "two1nine\n",
    "eightwothree\n",
    "abcone2threexyz\n",
    "xtwone3four\n",
    "4nineeightseven2\n",
    "zoneight234\n",
    "7pqrstsixteen\n",
    "```\n",
    "\n",
    "In this example, the calibration values are 29, 83, 13, 24, 42, 14, and 76. Adding these together produces **281**.\n",
    "\n",
    "**What is the sum of all of the calibration values?**"
   ]
  },
  {
   "cell_type": "markdown",
   "id": "bd063de7-921a-4556-8d27-9d6a00306ffa",
   "metadata": {},
   "source": [
    "This reframed problem has some catches. We need to (i) handle multiple occurrences of the same spelled-out digit, (ii) translate spelled-out numbers into digits, and (iii) handle cases where spelled-out numbers overlap, e.g. `threeight` or `zerone`. That causes problems for some of the Python builtin functions, such as `re.finditer` and `re.findall`, which are efficient ways to match strings, but only find non-overlapping matches.\n",
    "\n",
    "The solution below uses a regular expression to match spelled-out digits, and the construction `(?=)` to avoid consuming characters in any overlapping strings. For instance `re.findall(\"zero|one\", \"zerone\")` returns `['zero']`, because of the overlap. Asking `re` not to consume the last letter in `zero`, using `re.findall(\"zer(?=o)|one\", \"zerone\")` returns `['zer', 'one']`, and it's then straightforward to match the truncated string to its corresponding digit in the dictionary `digdict`."
   ]
  },
  {
   "cell_type": "code",
   "execution_count": 5,
   "id": "01e0a437-b242-4890-b1a5-1d7dd56e6b51",
   "metadata": {},
   "outputs": [],
   "source": [
    "digre = re.compile(\"0|1|2|3|4|5|6|7|8|9|zer(?=)o|on(?=e)|tw(?=o)|thre(?=e)|four|fiv(?=e)|six|seve(?=n)|eigh(?=t)|nin(?=e)\")\n",
    "\n",
    "digdict = {\"zero\": \"0\", \"on\": \"1\", \"tw\": \"2\", \"thre\": \"3\", \"four\": \"4\", \"fiv\": \"5\", \"six\": \"6\", \"seve\": \"7\", \"eigh\": \"8\", \"nin\": \"9\",\n",
    "          \"0\": \"0\", \"1\": \"1\", \"2\": \"2\", \"3\": \"3\", \"4\": \"4\", \"5\": \"5\", \"6\": \"6\", \"7\": \"7\", \"8\": \"8\", \"9\": \"9\"}\n",
    "\n",
    "def parse_data(data):\n",
    "    \"\"\"Return list of integers made from of first and last digit in each line.\"\"\"\n",
    "    vals = []\n",
    "    for line in data:\n",
    "        diglist = []  # ordered list of positions of digits\n",
    "        for match in re.finditer(digre, line):\n",
    "            diglist.append((match.start(), digdict[match.group()]))\n",
    "        vals.append(diglist[0][1] + diglist[-1][1])\n",
    "    return [int(_) for _ in vals]"
   ]
  },
  {
   "cell_type": "code",
   "execution_count": 6,
   "id": "7d61028b-4100-449f-a5c1-ef5db48cfdba",
   "metadata": {},
   "outputs": [
    {
     "data": {
      "text/plain": [
       "281"
      ]
     },
     "execution_count": 6,
     "metadata": {},
     "output_type": "execute_result"
    }
   ],
   "source": [
    "data = load_data(Path(\"data/day01_test2.txt\"))\n",
    "vals = parse_data(data)\n",
    "sum(vals)"
   ]
  },
  {
   "cell_type": "code",
   "execution_count": 7,
   "id": "e439bd9c-b7c5-44e5-93eb-b1656c774e11",
   "metadata": {},
   "outputs": [
    {
     "data": {
      "text/plain": [
       "54418"
      ]
     },
     "execution_count": 7,
     "metadata": {},
     "output_type": "execute_result"
    }
   ],
   "source": [
    "data = load_data(Path(\"data/day01_data.txt\"))\n",
    "vals = parse_data(data)\n",
    "sum(vals)"
   ]
  },
  {
   "cell_type": "markdown",
   "id": "a45b1cbd-8e49-4052-9eb0-3a1f9035adc2",
   "metadata": {},
   "source": [
    "And this gives us the correct solution."
   ]
  },
  {
   "cell_type": "code",
   "execution_count": null,
   "id": "63af49fb-d169-4f5d-8a5e-4db04138dfd9",
   "metadata": {},
   "outputs": [],
   "source": []
  }
 ],
 "metadata": {
  "kernelspec": {
   "display_name": "Python 3 (ipykernel)",
   "language": "python",
   "name": "python3"
  },
  "language_info": {
   "codemirror_mode": {
    "name": "ipython",
    "version": 3
   },
   "file_extension": ".py",
   "mimetype": "text/x-python",
   "name": "python",
   "nbconvert_exporter": "python",
   "pygments_lexer": "ipython3",
   "version": "3.12.0"
  }
 },
 "nbformat": 4,
 "nbformat_minor": 5
}
