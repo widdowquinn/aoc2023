{
 "cells": [
  {
   "cell_type": "markdown",
   "id": "11388068-182b-43c6-84f4-65854a9e0abc",
   "metadata": {},
   "source": [
    "# Day 4\n",
    "\n",
    "## Scratchcards\n",
    "\n",
    "The gondola takes you up. Strangely, though, the ground doesn't seem to be coming with you; you're not climbing a mountain. As the circle of Snow Island recedes below you, an entire new landmass suddenly appears above you! The gondola carries you to the surface of the new island and lurches into the station.\n",
    "\n",
    "As you exit the gondola, the first thing you notice is that the air here is much **warmer** than it was on Snow Island. It's also quite **humid**. Is this where the water source is?\n",
    "\n",
    "The next thing you notice is an Elf sitting on the floor across the station in what seems to be a pile of colorful square cards.\n",
    "\n",
    "\"Oh! Hello!\" The Elf excitedly runs over to you. \"How may I be of service?\" You ask about water sources.\n",
    "\n",
    "\"I'm not sure; I just operate the gondola lift. That does sound like something we'd have, though - this is **Island Island**, after all! I bet the **gardener** would know. He's on a different island, though - er, the small kind surrounded by water, not the floating kind. We really need to come up with a better naming scheme. Tell you what: if you can help me with something quick, I'll let you **borrow my boat** and you can go visit the gardener. I got all these scratchcards as a gift, but I can't figure out what I've won.\"\n",
    "\n",
    "The Elf leads you over to the pile of colorful cards. There, you discover dozens of scratchcards, all with their opaque covering already scratched off. Picking one up, it looks like each card has two lists of numbers separated by a vertical bar (|): a list of **winning numbers** and then a list of **numbers you have**. You organize the information into a table (your puzzle input).\n",
    "\n",
    "As far as the Elf has been able to figure out, you have to figure out which of the **numbers you have** appear in the list of **winning numbers**. The first match makes the card worth **one point** and each match after the first **doubles** the point value of that card.\n",
    "\n",
    "For example:\n",
    "\n",
    "```text\n",
    "Card 1: 41 48 83 86 17 | 83 86  6 31 17  9 48 53\n",
    "Card 2: 13 32 20 16 61 | 61 30 68 82 17 32 24 19\n",
    "Card 3:  1 21 53 59 44 | 69 82 63 72 16 21 14  1\n",
    "Card 4: 41 92 73 84 69 | 59 84 76 51 58  5 54 83\n",
    "Card 5: 87 83 26 28 32 | 88 30 70 12 93 22 82 36\n",
    "Card 6: 31 18 13 56 72 | 74 77 10 23 35 67 36 11\n",
    "```\n",
    "\n",
    "In the above example, card 1 has five winning numbers (41, 48, 83, 86, and 17) and eight numbers you have (83, 86, 6, 31, 17, 9, 48, and 53). Of the numbers you have, four of them (48, 83, 17, and 86) are winning numbers! That means card 1 is worth `8` points (1 for the first match, then doubled three times for each of the three matches after the first).\n",
    "\n",
    "    Card 2 has two winning numbers (32 and 61), so it is worth `2` points.\n",
    "    Card 3 has two winning numbers (1 and 21), so it is worth `2` points.\n",
    "    Card 4 has one winning number (84), so it is worth 1 point.\n",
    "    Card 5 has no winning numbers, so it is worth no points.\n",
    "    Card 6 has no winning numbers, so it is worth no points.\n",
    "\n",
    "So, in this example, the Elf's pile of scratchcards is worth `13` points.\n",
    "\n",
    "Take a seat in the large pile of colorful cards. **How many points are they worth in total**?"
   ]
  },
  {
   "cell_type": "markdown",
   "id": "e4b85988-124f-47ff-9bcb-48a438efa986",
   "metadata": {},
   "source": [
    "## Part One\n",
    "\n",
    "I initially loaded each card line into a list with two `set`s of `int`s. I used sets because it would make calculating the number of matches striaghtforward, with `.intersection()`. Once the number of matching numbers is known, I used a tally table/formula (`score_card()`) to calculate the card score, to avoid repeated doubling of a number in place."
   ]
  },
  {
   "cell_type": "code",
   "execution_count": 1,
   "id": "bb70dcc1-01b7-47ba-af7d-3776df8e3f19",
   "metadata": {},
   "outputs": [],
   "source": [
    "from pathlib import Path"
   ]
  },
  {
   "cell_type": "code",
   "execution_count": 2,
   "id": "b3bfd0a4-e621-438f-8e56-916933f75511",
   "metadata": {},
   "outputs": [],
   "source": [
    "def load_data(path):\n",
    "    cards = []\n",
    "    with path.open() as ifh:\n",
    "        for line in (_ for _ in ifh.readlines()):\n",
    "            win, have = tuple(line.split(\": \")[-1].split(\" | \"))\n",
    "            win = {int(_) for _ in win.split()}  # Use sets so that .intersection() gives us matches\n",
    "            have = {int(_) for _ in have.split()}\n",
    "            cards.append((win, have))\n",
    "    return cards\n",
    "\n",
    "def score_card(win, have):\n",
    "    matches = len(win.intersection(have))\n",
    "    if matches == 0:  # Use tally table for 0 or 1 match\n",
    "        return 0\n",
    "    elif matches == 1:\n",
    "        return 1\n",
    "    else:  # Use formula for more matches\n",
    "        return 2**(matches-1)\n",
    "\n",
    "def score_cards(cards):\n",
    "    scores = [score_card(win, have) for (win, have) in cards]\n",
    "    return scores"
   ]
  },
  {
   "cell_type": "code",
   "execution_count": 3,
   "id": "fa7cf064-e76d-4fd2-becf-5f1c2232a897",
   "metadata": {},
   "outputs": [
    {
     "data": {
      "text/plain": [
       "13"
      ]
     },
     "execution_count": 3,
     "metadata": {},
     "output_type": "execute_result"
    }
   ],
   "source": [
    "cards = load_data(Path(\"data/day04_test.txt\"))\n",
    "sum(score_cards(cards))"
   ]
  },
  {
   "cell_type": "code",
   "execution_count": 4,
   "id": "fededb2a-2bfd-456b-8c98-e9c58f4d1135",
   "metadata": {},
   "outputs": [
    {
     "data": {
      "text/plain": [
       "28750"
      ]
     },
     "execution_count": 4,
     "metadata": {},
     "output_type": "execute_result"
    }
   ],
   "source": [
    "cards = load_data(Path(\"data/day04_data.txt\"))\n",
    "sum(score_cards(cards))"
   ]
  },
  {
   "cell_type": "markdown",
   "id": "3dae6723-5993-4143-a8cd-d7545e7684c5",
   "metadata": {},
   "source": [
    "## Part Two\n",
    "\n",
    "Just as you're about to report your findings to the Elf, one of you realizes that the rules have actually been printed on the back of every card this whole time.\n",
    "\n",
    "There's no such thing as \"points\". Instead, scratchcards only cause you to **win more scratchcards** equal to the number of winning numbers you have.\n",
    "\n",
    "Specifically, you win **copies** of the scratchcards below the winning card equal to the number of matches. So, if card 10 were to have 5 matching numbers, you would win one copy each of cards 11, 12, 13, 14, and 15.\n",
    "\n",
    "Copies of scratchcards are scored like normal scratchcards and have the **same card number** as the card they copied. So, if you win a copy of card 10 and it has 5 matching numbers, it would then win a copy of the same cards that the original card 10 won: cards 11, 12, 13, 14, and 15. This process repeats until none of the copies cause you to win any more cards. (Cards will never make you copy a card past the end of the table.)\n",
    "\n",
    "This time, the above example goes differently:\n",
    "\n",
    "```text\n",
    "Card 1: 41 48 83 86 17 | 83 86  6 31 17  9 48 53\n",
    "Card 2: 13 32 20 16 61 | 61 30 68 82 17 32 24 19\n",
    "Card 3:  1 21 53 59 44 | 69 82 63 72 16 21 14  1\n",
    "Card 4: 41 92 73 84 69 | 59 84 76 51 58  5 54 83\n",
    "Card 5: 87 83 26 28 32 | 88 30 70 12 93 22 82 36\n",
    "Card 6: 31 18 13 56 72 | 74 77 10 23 35 67 36 11\n",
    "``\n",
    "\n",
    "    Card 1 has four matching numbers, so you win one copy each of the next four cards: cards 2, 3, 4, and 5.\n",
    "    Your original card 2 has two matching numbers, so you win one copy each of cards 3 and 4.\n",
    "    Your copy of card 2 also wins one copy each of cards 3 and 4.\n",
    "    Your four instances of card 3 (one original and three copies) have two matching numbers, so you win **four** copies each of cards 4 and 5.\n",
    "    Your eight instances of card 4 (one original and seven copies) have one matching number, so you win **eight** copies of card 5.\n",
    "    Your fourteen instances of card 5 (one original and thirteen copies) have no matching numbers and win no more cards.\n",
    "    Your one instance of card 6 (one original) has no matching numbers and wins no more cards.\n",
    "\n",
    "Once all of the originals and copies have been processed, you end up with 1 instance of card 1, `2` instances of card 2, `4` instances of card 3, `8` instances of card 4, `14` instances of card 5, and `1` instance of card 6. In total, this example pile of scratchcards causes you to ultimately have `30` scratchcards!\n",
    "\n",
    "Process all of the original and copied scratchcards until no more scratchcards are won. Including the original set of scratchcards, **how many total scratchcards do you end up with**?"
   ]
  },
  {
   "cell_type": "markdown",
   "id": "5b7cfcab-7f51-4e49-b77e-181d66c1e6b1",
   "metadata": {},
   "source": [
    "The key to understanding the problem for me was realising _where_ the copied cards go. A casual skim might make it look as though they're added on to the end, in sequence, but they're treated as siblings of the inital card in the set. That simplifies things.\n",
    "\n",
    "In `rescore_cards()` I took the cards I initially read in, and made a dictionary, keyed by card number, with value that's a list with the card and the count of cards with that card number.\n",
    "\n",
    "Then, we can count the number of matches in the same way as before (I could have refactored to its own function for both solutions, but hey-ho!), and update the card count for the appropriate number of following cards. The critical change here is that we update the _following_ card counts by the number of _current_ cards."
   ]
  },
  {
   "cell_type": "code",
   "execution_count": 5,
   "id": "ad781057-ca2a-4770-848a-f21013637ba3",
   "metadata": {},
   "outputs": [],
   "source": [
    "def rescore_cards(cards):\n",
    "    # Change card representation. Use a dictionary, keyed by card ID, and\n",
    "    # also carry a count of the number of each card\n",
    "    card_counts = {idx + 1: [card, 1] for (idx, card) in enumerate(cards)}\n",
    "    for card_id, card_data in card_counts.items():\n",
    "        card, card_count = card_data\n",
    "        matches = len(card[0].intersection(card[1]))  # How many matches for this card?\n",
    "        if matches != 0:  # Update the next $matches cards\n",
    "            for update_id in range(card_id + 1, card_id + matches + 1):\n",
    "                card_counts[update_id][1] += card_count  # Update the number with current card count\n",
    "    return [_[1] for _ in card_counts.values()]  # Return a list of counts, for the puzzle"
   ]
  },
  {
   "cell_type": "code",
   "execution_count": 6,
   "id": "e5152be5-9d19-4838-bf4a-f74fcdf3f9a1",
   "metadata": {},
   "outputs": [
    {
     "data": {
      "text/plain": [
       "30"
      ]
     },
     "execution_count": 6,
     "metadata": {},
     "output_type": "execute_result"
    }
   ],
   "source": [
    "cards = load_data(Path(\"data/day04_test.txt\"))\n",
    "sum(rescore_cards(cards))"
   ]
  },
  {
   "cell_type": "code",
   "execution_count": 7,
   "id": "6671d364-1bd1-499c-b04c-e86536f8ae47",
   "metadata": {},
   "outputs": [
    {
     "data": {
      "text/plain": [
       "10212704"
      ]
     },
     "execution_count": 7,
     "metadata": {},
     "output_type": "execute_result"
    }
   ],
   "source": [
    "cards = load_data(Path(\"data/day04_data.txt\"))\n",
    "sum(rescore_cards(cards))"
   ]
  }
 ],
 "metadata": {
  "kernelspec": {
   "display_name": "Python 3 (ipykernel)",
   "language": "python",
   "name": "python3"
  },
  "language_info": {
   "codemirror_mode": {
    "name": "ipython",
    "version": 3
   },
   "file_extension": ".py",
   "mimetype": "text/x-python",
   "name": "python",
   "nbconvert_exporter": "python",
   "pygments_lexer": "ipython3",
   "version": "3.12.0"
  }
 },
 "nbformat": 4,
 "nbformat_minor": 5
}
